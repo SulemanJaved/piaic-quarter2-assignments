{
 "cells": [
  {
   "cell_type": "code",
   "execution_count": 286,
   "metadata": {},
   "outputs": [],
   "source": [
    "import pandas as pd\n",
    "from pandas import Series, DataFrame\n",
    "import glob\n",
    "import numpy as np\n",
    "import matplotlib.pyplot as plt"
   ]
  },
  {
   "cell_type": "code",
   "execution_count": 287,
   "metadata": {},
   "outputs": [],
   "source": [
    "path = r'AssignmentData'\n",
    "all_files = glob.glob(path +'/states*.csv')\n",
    "censusData = []\n",
    "\n",
    "for filename in all_files:\n",
    "    df = pd.read_csv(filename, index_col=0, header=0)\n",
    "    censusData.append(df)\n",
    "\n",
    "us_census = pd.concat(censusData, axis=0)"
   ]
  },
  {
   "cell_type": "code",
   "execution_count": 288,
   "metadata": {},
   "outputs": [
    {
     "data": {
      "text/html": [
       "<div>\n",
       "<style scoped>\n",
       "    .dataframe tbody tr th:only-of-type {\n",
       "        vertical-align: middle;\n",
       "    }\n",
       "\n",
       "    .dataframe tbody tr th {\n",
       "        vertical-align: top;\n",
       "    }\n",
       "\n",
       "    .dataframe thead th {\n",
       "        text-align: right;\n",
       "    }\n",
       "</style>\n",
       "<table border=\"1\" class=\"dataframe\">\n",
       "  <thead>\n",
       "    <tr style=\"text-align: right;\">\n",
       "      <th></th>\n",
       "      <th>State</th>\n",
       "      <th>TotalPop</th>\n",
       "      <th>Hispanic</th>\n",
       "      <th>White</th>\n",
       "      <th>Black</th>\n",
       "      <th>Native</th>\n",
       "      <th>Asian</th>\n",
       "      <th>Pacific</th>\n",
       "      <th>Income</th>\n",
       "      <th>GenderPop</th>\n",
       "    </tr>\n",
       "  </thead>\n",
       "  <tbody>\n",
       "    <tr>\n",
       "      <th>0</th>\n",
       "      <td>Alabama</td>\n",
       "      <td>4830620</td>\n",
       "      <td>3.7516156462584975%</td>\n",
       "      <td>61.878656462585%</td>\n",
       "      <td>31.25297619047618%</td>\n",
       "      <td>0.4532312925170065%</td>\n",
       "      <td>1.0502551020408146%</td>\n",
       "      <td>0.03435374149659865%</td>\n",
       "      <td>$43296.35860306644</td>\n",
       "      <td>2341093M_2489527F</td>\n",
       "    </tr>\n",
       "    <tr>\n",
       "      <th>1</th>\n",
       "      <td>Alaska</td>\n",
       "      <td>733375</td>\n",
       "      <td>5.909580838323351%</td>\n",
       "      <td>60.910179640718574%</td>\n",
       "      <td>2.8485029940119775%</td>\n",
       "      <td>16.39101796407186%</td>\n",
       "      <td>5.450299401197604%</td>\n",
       "      <td>1.0586826347305378%</td>\n",
       "      <td>$70354.74390243902</td>\n",
       "      <td>384160M_349215F</td>\n",
       "    </tr>\n",
       "    <tr>\n",
       "      <th>2</th>\n",
       "      <td>Arizona</td>\n",
       "      <td>6641928</td>\n",
       "      <td>29.565921052631502%</td>\n",
       "      <td>57.120000000000026%</td>\n",
       "      <td>3.8509868421052658%</td>\n",
       "      <td>4.35506578947368%</td>\n",
       "      <td>2.876578947368419%</td>\n",
       "      <td>0.16763157894736833%</td>\n",
       "      <td>$54207.82095490716</td>\n",
       "      <td>3299088M_3342840F</td>\n",
       "    </tr>\n",
       "    <tr>\n",
       "      <th>3</th>\n",
       "      <td>Arkansas</td>\n",
       "      <td>2958208</td>\n",
       "      <td>6.215474452554738%</td>\n",
       "      <td>71.13781021897813%</td>\n",
       "      <td>18.968759124087573%</td>\n",
       "      <td>0.5229197080291965%</td>\n",
       "      <td>1.1423357664233578%</td>\n",
       "      <td>0.14686131386861315%</td>\n",
       "      <td>$41935.63396778917</td>\n",
       "      <td>1451913M_1506295F</td>\n",
       "    </tr>\n",
       "    <tr>\n",
       "      <th>4</th>\n",
       "      <td>California</td>\n",
       "      <td>38421464</td>\n",
       "      <td>37.291874687968054%</td>\n",
       "      <td>40.21578881677474%</td>\n",
       "      <td>5.677396405391911%</td>\n",
       "      <td>0.40529206190713685%</td>\n",
       "      <td>13.052234148776776%</td>\n",
       "      <td>0.35141038442336353%</td>\n",
       "      <td>$67264.78230266465</td>\n",
       "      <td>19087135M_19334329F</td>\n",
       "    </tr>\n",
       "  </tbody>\n",
       "</table>\n",
       "</div>"
      ],
      "text/plain": [
       "        State  TotalPop             Hispanic                White  \\\n",
       "0     Alabama   4830620  3.7516156462584975%     61.878656462585%   \n",
       "1      Alaska    733375   5.909580838323351%  60.910179640718574%   \n",
       "2     Arizona   6641928  29.565921052631502%  57.120000000000026%   \n",
       "3    Arkansas   2958208   6.215474452554738%   71.13781021897813%   \n",
       "4  California  38421464  37.291874687968054%   40.21578881677474%   \n",
       "\n",
       "                 Black                Native                Asian  \\\n",
       "0   31.25297619047618%   0.4532312925170065%  1.0502551020408146%   \n",
       "1  2.8485029940119775%    16.39101796407186%   5.450299401197604%   \n",
       "2  3.8509868421052658%     4.35506578947368%   2.876578947368419%   \n",
       "3  18.968759124087573%   0.5229197080291965%  1.1423357664233578%   \n",
       "4   5.677396405391911%  0.40529206190713685%  13.052234148776776%   \n",
       "\n",
       "                Pacific              Income            GenderPop  \n",
       "0  0.03435374149659865%  $43296.35860306644    2341093M_2489527F  \n",
       "1   1.0586826347305378%  $70354.74390243902      384160M_349215F  \n",
       "2  0.16763157894736833%  $54207.82095490716    3299088M_3342840F  \n",
       "3  0.14686131386861315%  $41935.63396778917    1451913M_1506295F  \n",
       "4  0.35141038442336353%  $67264.78230266465  19087135M_19334329F  "
      ]
     },
     "execution_count": 288,
     "metadata": {},
     "output_type": "execute_result"
    }
   ],
   "source": [
    "us_census.head()"
   ]
  },
  {
   "cell_type": "code",
   "execution_count": 289,
   "metadata": {},
   "outputs": [],
   "source": [
    "us_census['Income'] = us_census['Income'].replace({'\\$': ''}, regex=True).astype(float)\n",
    "us_census[['Male', 'Female']] = us_census['GenderPop'].str.split('_',1, expand=True)\n",
    "us_census['Male'] = us_census['Male'].replace({'M': ''}, regex=True)\n",
    "us_census['Female'] = us_census['Female'].replace({'F': ''}, regex=True)\n",
    "us_census['Male'] = pd.to_numeric(us_census['Male'])\n",
    "us_census['Female'] = pd.to_numeric(us_census['Female'])\n",
    "us_census['TotalPop'] = pd.to_numeric(us_census['TotalPop'])"
   ]
  },
  {
   "cell_type": "code",
   "execution_count": 290,
   "metadata": {},
   "outputs": [
    {
     "data": {
      "text/html": [
       "<div>\n",
       "<style scoped>\n",
       "    .dataframe tbody tr th:only-of-type {\n",
       "        vertical-align: middle;\n",
       "    }\n",
       "\n",
       "    .dataframe tbody tr th {\n",
       "        vertical-align: top;\n",
       "    }\n",
       "\n",
       "    .dataframe thead th {\n",
       "        text-align: right;\n",
       "    }\n",
       "</style>\n",
       "<table border=\"1\" class=\"dataframe\">\n",
       "  <thead>\n",
       "    <tr style=\"text-align: right;\">\n",
       "      <th></th>\n",
       "      <th>State</th>\n",
       "      <th>TotalPop</th>\n",
       "      <th>Hispanic</th>\n",
       "      <th>White</th>\n",
       "      <th>Black</th>\n",
       "      <th>Native</th>\n",
       "      <th>Asian</th>\n",
       "      <th>Pacific</th>\n",
       "      <th>Income</th>\n",
       "      <th>GenderPop</th>\n",
       "      <th>Male</th>\n",
       "      <th>Female</th>\n",
       "    </tr>\n",
       "  </thead>\n",
       "  <tbody>\n",
       "    <tr>\n",
       "      <th>0</th>\n",
       "      <td>Alabama</td>\n",
       "      <td>4830620</td>\n",
       "      <td>3.7516156462584975%</td>\n",
       "      <td>61.878656462585%</td>\n",
       "      <td>31.25297619047618%</td>\n",
       "      <td>0.4532312925170065%</td>\n",
       "      <td>1.0502551020408146%</td>\n",
       "      <td>0.03435374149659865%</td>\n",
       "      <td>43296.358603</td>\n",
       "      <td>2341093M_2489527F</td>\n",
       "      <td>2341093</td>\n",
       "      <td>2489527.0</td>\n",
       "    </tr>\n",
       "    <tr>\n",
       "      <th>1</th>\n",
       "      <td>Alaska</td>\n",
       "      <td>733375</td>\n",
       "      <td>5.909580838323351%</td>\n",
       "      <td>60.910179640718574%</td>\n",
       "      <td>2.8485029940119775%</td>\n",
       "      <td>16.39101796407186%</td>\n",
       "      <td>5.450299401197604%</td>\n",
       "      <td>1.0586826347305378%</td>\n",
       "      <td>70354.743902</td>\n",
       "      <td>384160M_349215F</td>\n",
       "      <td>384160</td>\n",
       "      <td>349215.0</td>\n",
       "    </tr>\n",
       "    <tr>\n",
       "      <th>2</th>\n",
       "      <td>Arizona</td>\n",
       "      <td>6641928</td>\n",
       "      <td>29.565921052631502%</td>\n",
       "      <td>57.120000000000026%</td>\n",
       "      <td>3.8509868421052658%</td>\n",
       "      <td>4.35506578947368%</td>\n",
       "      <td>2.876578947368419%</td>\n",
       "      <td>0.16763157894736833%</td>\n",
       "      <td>54207.820955</td>\n",
       "      <td>3299088M_3342840F</td>\n",
       "      <td>3299088</td>\n",
       "      <td>3342840.0</td>\n",
       "    </tr>\n",
       "    <tr>\n",
       "      <th>3</th>\n",
       "      <td>Arkansas</td>\n",
       "      <td>2958208</td>\n",
       "      <td>6.215474452554738%</td>\n",
       "      <td>71.13781021897813%</td>\n",
       "      <td>18.968759124087573%</td>\n",
       "      <td>0.5229197080291965%</td>\n",
       "      <td>1.1423357664233578%</td>\n",
       "      <td>0.14686131386861315%</td>\n",
       "      <td>41935.633968</td>\n",
       "      <td>1451913M_1506295F</td>\n",
       "      <td>1451913</td>\n",
       "      <td>1506295.0</td>\n",
       "    </tr>\n",
       "    <tr>\n",
       "      <th>4</th>\n",
       "      <td>California</td>\n",
       "      <td>38421464</td>\n",
       "      <td>37.291874687968054%</td>\n",
       "      <td>40.21578881677474%</td>\n",
       "      <td>5.677396405391911%</td>\n",
       "      <td>0.40529206190713685%</td>\n",
       "      <td>13.052234148776776%</td>\n",
       "      <td>0.35141038442336353%</td>\n",
       "      <td>67264.782303</td>\n",
       "      <td>19087135M_19334329F</td>\n",
       "      <td>19087135</td>\n",
       "      <td>19334329.0</td>\n",
       "    </tr>\n",
       "  </tbody>\n",
       "</table>\n",
       "</div>"
      ],
      "text/plain": [
       "        State  TotalPop             Hispanic                White  \\\n",
       "0     Alabama   4830620  3.7516156462584975%     61.878656462585%   \n",
       "1      Alaska    733375   5.909580838323351%  60.910179640718574%   \n",
       "2     Arizona   6641928  29.565921052631502%  57.120000000000026%   \n",
       "3    Arkansas   2958208   6.215474452554738%   71.13781021897813%   \n",
       "4  California  38421464  37.291874687968054%   40.21578881677474%   \n",
       "\n",
       "                 Black                Native                Asian  \\\n",
       "0   31.25297619047618%   0.4532312925170065%  1.0502551020408146%   \n",
       "1  2.8485029940119775%    16.39101796407186%   5.450299401197604%   \n",
       "2  3.8509868421052658%     4.35506578947368%   2.876578947368419%   \n",
       "3  18.968759124087573%   0.5229197080291965%  1.1423357664233578%   \n",
       "4   5.677396405391911%  0.40529206190713685%  13.052234148776776%   \n",
       "\n",
       "                Pacific        Income            GenderPop      Male  \\\n",
       "0  0.03435374149659865%  43296.358603    2341093M_2489527F   2341093   \n",
       "1   1.0586826347305378%  70354.743902      384160M_349215F    384160   \n",
       "2  0.16763157894736833%  54207.820955    3299088M_3342840F   3299088   \n",
       "3  0.14686131386861315%  41935.633968    1451913M_1506295F   1451913   \n",
       "4  0.35141038442336353%  67264.782303  19087135M_19334329F  19087135   \n",
       "\n",
       "       Female  \n",
       "0   2489527.0  \n",
       "1    349215.0  \n",
       "2   3342840.0  \n",
       "3   1506295.0  \n",
       "4  19334329.0  "
      ]
     },
     "execution_count": 290,
     "metadata": {},
     "output_type": "execute_result"
    }
   ],
   "source": [
    "us_census.head()"
   ]
  },
  {
   "cell_type": "code",
   "execution_count": 291,
   "metadata": {},
   "outputs": [
    {
     "data": {
      "image/png": "[encoded data removed]",
      "text/plain": [
       "<Figure size 432x288 with 1 Axes>"
      ]
     },
     "metadata": {
      "needs_background": "light"
     },
     "output_type": "display_data"
    }
   ],
   "source": [
    "plt.scatter(us_census['Female'],us_census['Income'] )\n",
    "plt.show()"
   ]
  },
  {
   "cell_type": "code",
   "execution_count": 292,
   "metadata": {},
   "outputs": [
    {
     "name": "stdout",
     "output_type": "stream",
     "text": [
      "0     2489527.0\n",
      "1      349215.0\n",
      "2     3342840.0\n",
      "3     1506295.0\n",
      "4    19334329.0\n",
      "5     2630239.0\n",
      "0     2630239.0\n",
      "1     1841615.0\n",
      "2      478041.0\n",
      "3      340810.0\n",
      "4    10045763.0\n",
      "5     5123362.0\n",
      "0     5123362.0\n",
      "1      696428.0\n",
      "2      806083.0\n",
      "3     6556862.0\n",
      "4     3333382.0\n",
      "5     1558931.0\n",
      "0     1558931.0\n",
      "1     1453125.0\n",
      "2     2233145.0\n",
      "3     2364097.0\n",
      "4      679019.0\n",
      "5           NaN\n",
      "0           NaN\n",
      "1     3455936.0\n",
      "2     5038598.0\n",
      "3     2727005.0\n",
      "4     1536358.0\n",
      "5     3081445.0\n",
      "0     3081445.0\n",
      "1           NaN\n",
      "2      939759.0\n",
      "3     1390901.0\n",
      "4      670717.0\n",
      "5     4561386.0\n",
      "0     4561386.0\n",
      "1     1051703.0\n",
      "2    10131373.0\n",
      "3     5049925.0\n",
      "4      353677.0\n",
      "5     5913084.0\n",
      "0     5913084.0\n",
      "1     1942789.0\n",
      "2     1990780.0\n",
      "3     6534215.0\n",
      "4     1869213.0\n",
      "5      543273.0\n",
      "0      543273.0\n",
      "1     2455167.0\n",
      "2      419713.0\n",
      "3     3331859.0\n",
      "4    13367298.0\n",
      "5     1444150.0\n",
      "0     1444150.0\n",
      "1      318031.0\n",
      "2     4195682.0\n",
      "3     3497739.0\n",
      "4      937789.0\n",
      "5     2890732.0\n",
      "Name: Female, dtype: float64\n"
     ]
    }
   ],
   "source": [
    "print( us_census['Female'])"
   ]
  },
  {
   "cell_type": "code",
   "execution_count": 293,
   "metadata": {},
   "outputs": [],
   "source": [
    "us_census['Female'] = us_census['Female'].fillna(us_census['TotalPop']-us_census['Male'])"
   ]
  },
  {
   "cell_type": "code",
   "execution_count": 294,
   "metadata": {},
   "outputs": [
    {
     "name": "stdout",
     "output_type": "stream",
     "text": [
      "0     2489527.0\n",
      "1      349215.0\n",
      "2     3342840.0\n",
      "3     1506295.0\n",
      "4    19334329.0\n",
      "5     2630239.0\n",
      "0     2630239.0\n",
      "1     1841615.0\n",
      "2      478041.0\n",
      "3      340810.0\n",
      "4    10045763.0\n",
      "5     5123362.0\n",
      "0     5123362.0\n",
      "1      696428.0\n",
      "2      806083.0\n",
      "3     6556862.0\n",
      "4     3333382.0\n",
      "5     1558931.0\n",
      "0     1558931.0\n",
      "1     1453125.0\n",
      "2     2233145.0\n",
      "3     2364097.0\n",
      "4      679019.0\n",
      "5     3057895.0\n",
      "0     3057895.0\n",
      "1     3455936.0\n",
      "2     5038598.0\n",
      "3     2727005.0\n",
      "4     1536358.0\n",
      "5     3081445.0\n",
      "0     3081445.0\n",
      "1      504536.0\n",
      "2      939759.0\n",
      "3     1390901.0\n",
      "4      670717.0\n",
      "5     4561386.0\n",
      "0     4561386.0\n",
      "1     1051703.0\n",
      "2    10131373.0\n",
      "3     5049925.0\n",
      "4      353677.0\n",
      "5     5913084.0\n",
      "0     5913084.0\n",
      "1     1942789.0\n",
      "2     1990780.0\n",
      "3     6534215.0\n",
      "4     1869213.0\n",
      "5      543273.0\n",
      "0      543273.0\n",
      "1     2455167.0\n",
      "2      419713.0\n",
      "3     3331859.0\n",
      "4    13367298.0\n",
      "5     1444150.0\n",
      "0     1444150.0\n",
      "1      318031.0\n",
      "2     4195682.0\n",
      "3     3497739.0\n",
      "4      937789.0\n",
      "5     2890732.0\n",
      "Name: Female, dtype: float64\n"
     ]
    }
   ],
   "source": [
    "print(us_census['Female'])"
   ]
  },
  {
   "cell_type": "code",
   "execution_count": 295,
   "metadata": {},
   "outputs": [],
   "source": [
    "us_census.drop_duplicates(inplace=True)"
   ]
  },
  {
   "cell_type": "code",
   "execution_count": 296,
   "metadata": {},
   "outputs": [
    {
     "data": {
      "image/png": "[encoded data removed]",
      "text/plain": [
       "<Figure size 432x288 with 1 Axes>"
      ]
     },
     "metadata": {
      "needs_background": "light"
     },
     "output_type": "display_data"
    }
   ],
   "source": [
    "plt.scatter(us_census['Female'],us_census['Income'] )\n",
    "plt.show()"
   ]
  },
  {
   "cell_type": "code",
   "execution_count": 297,
   "metadata": {},
   "outputs": [
    {
     "data": {
      "text/plain": [
       "Index(['State', 'TotalPop', 'Hispanic', 'White', 'Black', 'Native', 'Asian',\n",
       "       'Pacific', 'Income', 'GenderPop', 'Male', 'Female'],\n",
       "      dtype='object')"
      ]
     },
     "execution_count": 297,
     "metadata": {},
     "output_type": "execute_result"
    }
   ],
   "source": [
    "us_census.columns"
   ]
  },
  {
   "cell_type": "code",
   "execution_count": 298,
   "metadata": {},
   "outputs": [],
   "source": [
    "us_census[['Hispanic', \n",
    "           'White', \n",
    "           'Black', \n",
    "           'Native', \n",
    "           'Asian',\n",
    "           'Pacific']] = us_census[['Hispanic', \n",
    "                                    'White',\n",
    "                                    'Black', \n",
    "                                    'Native',\n",
    "                                    'Asian', \n",
    "                                    'Pacific']].replace({'%': ''}, regex=True).astype(float)"
   ]
  },
  {
   "cell_type": "code",
   "execution_count": 299,
   "metadata": {},
   "outputs": [
    {
     "name": "stdout",
     "output_type": "stream",
     "text": [
      "    Hispanic      White      Black     Native      Asian   Pacific\n",
      "0   3.751616  61.878656  31.252976   0.453231   1.050255  0.034354\n",
      "1   5.909581  60.910180   2.848503  16.391018   5.450299  1.058683\n",
      "2  29.565921  57.120000   3.850987   4.355066   2.876579  0.167632\n",
      "3   6.215474  71.137810  18.968759   0.522920   1.142336  0.146861\n",
      "4  37.291875  40.215789   5.677396   0.405292  13.052234  0.351410\n",
      "5  20.784380  69.895572   3.546377   0.573833   2.661997       NaN\n",
      "1  15.604831  67.677053  10.348068   0.126208   4.021981  0.018599\n",
      "2   8.824766  64.632710  20.743925   0.259813   3.268692       NaN\n",
      "3   9.165922  33.103911  51.776536   0.200559   3.383240  0.029609\n",
      "4  21.338543  59.083749  15.165676   0.210451   2.283174  0.051510\n",
      "5   8.418242  54.286306  32.088298   0.187583   3.097649  0.046602\n",
      "1   9.186709  25.032278   2.052848   0.144937  36.592089  8.758861\n",
      "2  11.505369  83.136242   0.566779   1.468121   1.135906  0.127181\n",
      "3  15.601734  60.859807  17.108411   0.118427   4.475377  0.020032\n",
      "4   6.536744  78.431894  11.186977   0.194086   1.578272  0.032625\n",
      "5   5.303645  87.719684   3.256987   0.289793   1.699392  0.055164\n",
      "1  11.644342  75.958289   6.567895   0.733947   2.331053       NaN\n",
      "2   3.222994  85.230748   8.272317   0.166637   1.129847  0.046438\n",
      "3   4.866489  54.978546  36.326241   0.484309   1.669060  0.039184\n",
      "4   1.431909  93.707407   1.134473   0.788319   0.965812  0.015670\n",
      "5   8.472498  52.679050  30.677754   0.203096   5.325414  0.036285\n",
      "1  11.461066  73.041052   6.833128   0.128279   5.835656  0.019809\n",
      "2   4.634993  72.381722  17.633103   0.484411   2.423110  0.019549\n",
      "3   5.152924  81.427061   5.659820   1.069040   4.156072  0.032909\n",
      "4   2.842401  53.286322  41.491945   0.389970   0.876444  0.015046\n",
      "5   4.037248  77.508069  14.122118   0.363329   1.624496  0.101657\n",
      "1   3.268889  86.415556   0.429259   7.060741   0.570370  0.072222\n",
      "2   9.203759  81.139474   4.956203   0.864474   1.859023  0.057143\n",
      "3  27.100884  53.239323   7.739617   1.087187   7.095729  0.574521\n",
      "4   3.321918  91.319178   1.227740   0.142808   2.191438  0.016096\n",
      "5  18.749500  56.488761  14.387862   0.115335   8.159990  0.031319\n",
      "1  45.282932  40.697992   1.755020   9.248594   1.234337  0.042771\n",
      "2  17.241425  56.470105  15.668046   0.321639   7.897159  0.023451\n",
      "3   8.464763  64.597651  21.395117   1.085491   2.317457  0.052326\n",
      "4   2.832683  87.448293   1.284390   5.651220   0.961951       NaN\n",
      "5   3.672084  75.903060  16.207276   0.168888   1.621081  0.022645\n",
      "1  10.079904  66.059426   8.314737   6.716842   1.801148  0.106220\n",
      "2  11.441212  78.395515   1.730788   1.000242   3.594909  0.345333\n",
      "3   6.128014  77.383854  11.633948   0.119269   2.797751  0.019394\n",
      "4  98.893574   0.773619   0.092559   0.002818   0.075197  0.001240\n",
      "5  13.356667  74.325417   5.682917   0.346250   3.247500  0.035833\n",
      "1   5.056685  62.888736  28.750916   0.292399   1.249176  0.046978\n",
      "2   3.239640  82.500901   1.423874   9.417568   1.019369  0.041892\n",
      "3   4.720027  73.490088  18.283817   0.226635   1.407283  0.043156\n",
      "4  38.046738  44.687909  11.650048   0.261144   3.669696  0.068816\n",
      "5  13.468376  79.406838   1.017949   1.081368   2.196068  0.825983\n",
      "1   1.609290  93.983060   0.980874   0.301639   1.238798  0.030601\n",
      "2   8.011016  63.271048  20.175998   0.212453   5.455242  0.064715\n",
      "3  11.140969  72.038408   3.384429   1.410727   7.022007  0.609896\n",
      "4   1.290909  92.176240   3.662810   0.152686   0.682438  0.026446\n",
      "5   6.683333  79.864009   8.195187   0.953664   2.404239  0.020833\n"
     ]
    }
   ],
   "source": [
    "print(us_census[['Hispanic', 'White', 'Black', 'Native', 'Asian', 'Pacific']])"
   ]
  },
  {
   "cell_type": "code",
   "execution_count": 304,
   "metadata": {},
   "outputs": [],
   "source": [
    "sum_of_columns = us_census[['Hispanic', 'White', 'Black', 'Native', 'Asian', 'Pacific']].sum(axis=1)\n",
    "threshold = 98.5\n",
    "us_census['Pacific'] = us_census['Pacific'].fillna(threshold-sum_of_columns)"
   ]
  },
  {
   "cell_type": "code",
   "execution_count": 328,
   "metadata": {},
   "outputs": [
    {
     "data": {
      "text/plain": [
       "array([[<matplotlib.axes._subplots.AxesSubplot object at 0x000000B5850922C8>,\n",
       "        <matplotlib.axes._subplots.AxesSubplot object at 0x000000B585126088>,\n",
       "        <matplotlib.axes._subplots.AxesSubplot object at 0x000000B58513A448>,\n",
       "        <matplotlib.axes._subplots.AxesSubplot object at 0x000000B585151048>,\n",
       "        <matplotlib.axes._subplots.AxesSubplot object at 0x000000B585166188>,\n",
       "        <matplotlib.axes._subplots.AxesSubplot object at 0x000000B58517C2C8>,\n",
       "        <matplotlib.axes._subplots.AxesSubplot object at 0x000000B585194348>],\n",
       "       [<matplotlib.axes._subplots.AxesSubplot object at 0x000000B5851ACF48>,\n",
       "        <matplotlib.axes._subplots.AxesSubplot object at 0x000000B5851AF048>,\n",
       "        <matplotlib.axes._subplots.AxesSubplot object at 0x000000B5851C6248>,\n",
       "        <matplotlib.axes._subplots.AxesSubplot object at 0x000000B5851EF788>,\n",
       "        <matplotlib.axes._subplots.AxesSubplot object at 0x000000B585207848>,\n",
       "        <matplotlib.axes._subplots.AxesSubplot object at 0x000000B58521E948>,\n",
       "        <matplotlib.axes._subplots.AxesSubplot object at 0x000000B585235A48>],\n",
       "       [<matplotlib.axes._subplots.AxesSubplot object at 0x000000B58524BB88>,\n",
       "        <matplotlib.axes._subplots.AxesSubplot object at 0x000000B585263C88>,\n",
       "        <matplotlib.axes._subplots.AxesSubplot object at 0x000000B58527AD48>,\n",
       "        <matplotlib.axes._subplots.AxesSubplot object at 0x000000B585285E88>,\n",
       "        <matplotlib.axes._subplots.AxesSubplot object at 0x000000B5852A4788>,\n",
       "        <matplotlib.axes._subplots.AxesSubplot object at 0x000000B5852C9888>,\n",
       "        <matplotlib.axes._subplots.AxesSubplot object at 0x000000B5852F29C8>],\n",
       "       [<matplotlib.axes._subplots.AxesSubplot object at 0x000000B58532DAC8>,\n",
       "        <matplotlib.axes._subplots.AxesSubplot object at 0x000000B585367B88>,\n",
       "        <matplotlib.axes._subplots.AxesSubplot object at 0x000000B58539FCC8>,\n",
       "        <matplotlib.axes._subplots.AxesSubplot object at 0x000000B5853D7DC8>,\n",
       "        <matplotlib.axes._subplots.AxesSubplot object at 0x000000B585410EC8>,\n",
       "        <matplotlib.axes._subplots.AxesSubplot object at 0x000000B58544D048>,\n",
       "        <matplotlib.axes._subplots.AxesSubplot object at 0x000000B5854850C8>],\n",
       "       [<matplotlib.axes._subplots.AxesSubplot object at 0x000000B5854BC1C8>,\n",
       "        <matplotlib.axes._subplots.AxesSubplot object at 0x000000B5854F5308>,\n",
       "        <matplotlib.axes._subplots.AxesSubplot object at 0x000000B58552E448>,\n",
       "        <matplotlib.axes._subplots.AxesSubplot object at 0x000000B585567548>,\n",
       "        <matplotlib.axes._subplots.AxesSubplot object at 0x000000B5855A05C8>,\n",
       "        <matplotlib.axes._subplots.AxesSubplot object at 0x000000B5855D9708>,\n",
       "        <matplotlib.axes._subplots.AxesSubplot object at 0x000000B585612808>],\n",
       "       [<matplotlib.axes._subplots.AxesSubplot object at 0x000000B58564A908>,\n",
       "        <matplotlib.axes._subplots.AxesSubplot object at 0x000000B585684A48>,\n",
       "        <matplotlib.axes._subplots.AxesSubplot object at 0x000000B5856BEB48>,\n",
       "        <matplotlib.axes._subplots.AxesSubplot object at 0x000000B5856F4BC8>,\n",
       "        <matplotlib.axes._subplots.AxesSubplot object at 0x000000B58572ED08>,\n",
       "        <matplotlib.axes._subplots.AxesSubplot object at 0x000000B585767E08>,\n",
       "        <matplotlib.axes._subplots.AxesSubplot object at 0x000000B58579EF08>],\n",
       "       [<matplotlib.axes._subplots.AxesSubplot object at 0x000000B5857DC088>,\n",
       "        <matplotlib.axes._subplots.AxesSubplot object at 0x000000B585813108>,\n",
       "        <matplotlib.axes._subplots.AxesSubplot object at 0x000000B58584D208>,\n",
       "        <matplotlib.axes._subplots.AxesSubplot object at 0x000000B585884348>,\n",
       "        <matplotlib.axes._subplots.AxesSubplot object at 0x000000B5858BD448>,\n",
       "        <matplotlib.axes._subplots.AxesSubplot object at 0x000000B5858F8548>,\n",
       "        <matplotlib.axes._subplots.AxesSubplot object at 0x000000B585936E48>],\n",
       "       [<matplotlib.axes._subplots.AxesSubplot object at 0x000000B585969788>,\n",
       "        <matplotlib.axes._subplots.AxesSubplot object at 0x000000B5859A1888>,\n",
       "        <matplotlib.axes._subplots.AxesSubplot object at 0x000000B5859DD988>,\n",
       "        <matplotlib.axes._subplots.AxesSubplot object at 0x000000B585A14B88>,\n",
       "        <matplotlib.axes._subplots.AxesSubplot object at 0x000000B585A4CCC8>,\n",
       "        <matplotlib.axes._subplots.AxesSubplot object at 0x000000B585A84E88>,\n",
       "        <matplotlib.axes._subplots.AxesSubplot object at 0x000000B585AC10C8>]],\n",
       "      dtype=object)"
      ]
     },
     "execution_count": 328,
     "metadata": {},
     "output_type": "execute_result"
    },
    {
     "data": {
      "image/png": "[encoded data removed]",
      "text/plain": [
       "<Figure size 432x288 with 56 Axes>"
      ]
     },
     "metadata": {
      "needs_background": "light"
     },
     "output_type": "display_data"
    }
   ],
   "source": [
    "us_census.hist(column=['Hispanic', 'White', 'Black', 'Native', 'Asian', 'Pacific'],\n",
    "               by=us_census['State'])"
   ]
  },
  {
   "cell_type": "code",
   "execution_count": 339,
   "metadata": {},
   "outputs": [
    {
     "data": {
      "text/plain": [
       "<matplotlib.axes._subplots.AxesSubplot at 0xb58bf7fe88>"
      ]
     },
     "execution_count": 339,
     "metadata": {},
     "output_type": "execute_result"
    },
    {
     "data": {
      "image/png": "[encoded data removed]",
      "text/plain": [
       "<Figure size 432x288 with 1 Axes>"
      ]
     },
     "metadata": {
      "needs_background": "light"
     },
     "output_type": "display_data"
    }
   ],
   "source": [
    "us_census[['Hispanic', 'White', 'Black', 'Native', 'Asian', 'Pacific']].plot.bar()"
   ]
  },
  {
   "cell_type": "code",
   "execution_count": null,
   "metadata": {},
   "outputs": [],
   "source": []
  },
  {
   "cell_type": "code",
   "execution_count": null,
   "metadata": {},
   "outputs": [],
   "source": []
  }
 ],
 "metadata": {
  "kernelspec": {
   "display_name": "Python 3",
   "language": "python",
   "name": "python3"
  },
  "language_info": {
   "codemirror_mode": {
    "name": "ipython",
    "version": 3
   },
   "file_extension": ".py",
   "mimetype": "text/x-python",
   "name": "python",
   "nbconvert_exporter": "python",
   "pygments_lexer": "ipython3",
   "version": "3.7.6"
  }
 },
 "nbformat": 4,
 "nbformat_minor": 4
}
